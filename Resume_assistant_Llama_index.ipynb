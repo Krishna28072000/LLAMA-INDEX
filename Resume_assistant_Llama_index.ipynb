{
 "cells": [
  {
   "cell_type": "markdown",
   "id": "4b498bfd",
   "metadata": {},
   "source": [
    "**Objective : Resume Analysis using Llama Index** "
   ]
  },
  {
   "cell_type": "markdown",
   "id": "ada8097b",
   "metadata": {},
   "source": [
    "# Environment Setup"
   ]
  },
  {
   "cell_type": "code",
   "execution_count": 1,
   "id": "4fd3d689-8c18-4961-89da-1096e88adfe0",
   "metadata": {},
   "outputs": [],
   "source": [
    "import os\n",
    "#os.environ[\"OPENAI_API_KEY\"]=\"\"\n",
    "os.environ[\"OPENAI_API_KEY\"]=\"ENTER_OPENAI_API_KEY_HERE\"\n",
    "\n",
    "from llama_index.core import SimpleDirectoryReader\n",
    "documents = SimpleDirectoryReader(\"E:\\\\INTERNSHIP LLAMA INDEX\\\\resumes\",recursive=True).load_data()\n",
    "\n",
    "from llama_index.core import VectorStoreIndex\n",
    "index = VectorStoreIndex.from_documents(documents)\n",
    "query_engine = index.as_query_engine(similarity_top_k=25)"
   ]
  },
  {
   "cell_type": "markdown",
   "id": "70a7e006",
   "metadata": {},
   "source": [
    "This code uses `functools.reduce()` to join words in the \"words\" column into a single sentence for each row in the DataFrame.\n",
    "\n",
    "1. **`functools.reduce()`**: This function is used to apply a lambda function cumulatively to the items in an iterable (in this case, `df.loc[k, \"words\"]`), resulting in a single value (the joined sentence).\n",
    "2. The lambda function concatenates the words by adding a space (`\" \"`) between them: `lambda a, b: (str(a) + str(\" \") + str(b))`.\n",
    "3. The `for` loop iterates through each row of the DataFrame (`df.shape[0]` gives the number of rows), and for each row, the lambda function is applied to the \"words\" list, combining the individual words into a full sentence, which is then stored in the \"words_sentences\" column."
   ]
  },
  {
   "cell_type": "markdown",
   "id": "4537b207",
   "metadata": {},
   "source": [
    "# Setting up query"
   ]
  },
  {
   "cell_type": "code",
   "execution_count": 2,
   "id": "d1eaa39b-462f-4981-b613-7c7407322399",
   "metadata": {},
   "outputs": [],
   "source": [
    "def get_results(query_string):\n",
    "    response = query_engine.query(query_string)\n",
    "    return response.response\n",
    "    "
   ]
  },
  {
   "cell_type": "markdown",
   "id": "8fb8f9ab",
   "metadata": {},
   "source": [
    "This code defines a function `get_results(query_string)` that retrieves the results of a query using a pre-configured query engine.\n",
    "\n",
    "1. **Function Definition**: The function takes `query_string` as input, which represents the query to be processed.\n",
    "2. **Query Execution**: It uses the `query_engine.query(query_string)` method to execute the query, which returns a response based on the indexed documents.\n",
    "3. **Return Response**: The function returns the response from the query by accessing `response.response`, which contains the result of the query."
   ]
  },
  {
   "cell_type": "markdown",
   "id": "259d500b",
   "metadata": {},
   "source": [
    "# Flask Application Setup"
   ]
  },
  {
   "cell_type": "code",
   "execution_count": null,
   "id": "92a052bf-7c5c-4363-bf17-a56a8b89944c",
   "metadata": {},
   "outputs": [
    {
     "name": "stdout",
     "output_type": "stream",
     "text": [
      " * Serving Flask app '__main__'\n",
      " * Debug mode: off\n"
     ]
    },
    {
     "name": "stderr",
     "output_type": "stream",
     "text": [
      "WARNING: This is a development server. Do not use it in a production deployment. Use a production WSGI server instead.\n",
      " * Running on http://127.0.0.1:5000\n",
      "Press CTRL+C to quit\n"
     ]
    }
   ],
   "source": [
    "from flask import Flask, request, jsonify\n",
    "app = Flask(__name__,\n",
    "            static_url_path='', \n",
    "            static_folder='',\n",
    "            template_folder='')\n",
    "\n",
    "@app.route('/search/', methods = ['GET'])\n",
    "def any_name():\n",
    "   if request.method == 'GET':\n",
    "      name=request.args.get('q')\n",
    "      result = \"Good morning \" + name\n",
    "      return jsonify({\"code\":0,\"message\":result})\n",
    "\n",
    "@app.route('/ask_documents/', methods = ['GET'])\n",
    "def a_documents():\n",
    "   if request.method == 'GET':\n",
    "      q_name=request.args.get('q')\n",
    "      resp= get_results(q_name)\n",
    "      return jsonify({\"code\":0,\"message\":resp})\n",
    "\n",
    "@app.route('/p_search/', methods = ['POST'])\n",
    "def any_name_p():\n",
    "   if request.method == 'POST':\n",
    "      name=request.form('q')\n",
    "      result = \"Good morning \" + name\n",
    "      return jsonify({\"code\":0,\"message\":result})\n",
    "\n",
    "if __name__ == \"__main__\":    \n",
    "    app.debug=False\n",
    "    app.run(host=\"127.0.0.1\",port=5000) #192.168.1.22 # any number greater than 1028"
   ]
  },
  {
   "cell_type": "markdown",
   "id": "b019df19",
   "metadata": {},
   "source": [
    "This code sets up a simple web API using Flask with three routes to handle different requests.\n",
    "\n",
    "1. **Flask Initialization**: A Flask app is created with custom configuration for static and template folders.\n",
    "2. **Route `/search/` (GET method)**: It accepts a GET request with a query parameter `q`, greets the user by name with the message \"Good morning [name]\", and returns the message as a JSON response.\n",
    "3. **Route `/ask_documents/` (GET method)**: This route processes a GET request with a query parameter `q`, calls a function `get_results()` to retrieve data, and returns the results as a JSON response.\n",
    "4. **Route `/p_search/` (POST method)**: It accepts a POST request with a form data parameter `q`, greets the user with \"Good morning [name]\" and returns it as a JSON response.\n",
    "5. **App Configuration**: The app is configured to run on localhost at port 5000, with debugging disabled.\n",
    "\n"
   ]
  }
 ],
 "metadata": {
  "kernelspec": {
   "display_name": "Python 3",
   "language": "python",
   "name": "python3"
  },
  "language_info": {
   "codemirror_mode": {
    "name": "ipython",
    "version": 3
   },
   "file_extension": ".py",
   "mimetype": "text/x-python",
   "name": "python",
   "nbconvert_exporter": "python",
   "pygments_lexer": "ipython3",
   "version": "3.12.8"
  }
 },
 "nbformat": 4,
 "nbformat_minor": 5
}
