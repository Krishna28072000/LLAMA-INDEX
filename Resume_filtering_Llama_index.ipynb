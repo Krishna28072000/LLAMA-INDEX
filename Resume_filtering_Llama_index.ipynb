{
 "cells": [
  {
   "cell_type": "markdown",
   "id": "9042758e",
   "metadata": {},
   "source": [
    "**Objective : Resume Filtering in Llama Index**"
   ]
  },
  {
   "cell_type": "markdown",
   "id": "b8cf4967-7435-4ba8-8196-2f4614a40be3",
   "metadata": {},
   "source": [
    "# Set key in environmental varaible  "
   ]
  },
  {
   "cell_type": "code",
   "execution_count": 2,
   "id": "cb487736-fce8-4aae-b173-c0369d386ed8",
   "metadata": {},
   "outputs": [],
   "source": [
    "import os\n",
    "os.environ[\"OPENAI_API_KEY\"]=\"ENTER_OPENAI_API_KEY_HERE\""
   ]
  },
  {
   "cell_type": "markdown",
   "id": "67304cb2",
   "metadata": {},
   "source": [
    "This code sets the environment variable `OPENAI_API_KEY` to the specified API key string, allowing the application to authenticate with OpenAI services. The key is stored securely in the environment variables for use in API calls."
   ]
  },
  {
   "cell_type": "markdown",
   "id": "c167c43b-9fe2-4744-9fd6-0a1ff54d03b4",
   "metadata": {},
   "source": [
    "# Load documents"
   ]
  },
  {
   "cell_type": "code",
   "execution_count": 3,
   "id": "df553993-0bfa-491c-920d-6c4df45c941d",
   "metadata": {},
   "outputs": [],
   "source": [
    "from llama_index.core import SimpleDirectoryReader"
   ]
  },
  {
   "cell_type": "code",
   "execution_count": 9,
   "id": "366fa8cd-3e99-4a4b-a0ea-44c489307c9b",
   "metadata": {},
   "outputs": [],
   "source": [
    "documents = SimpleDirectoryReader(\"resumes\",recursive=True).load_data()"
   ]
  },
  {
   "cell_type": "markdown",
   "id": "d642461c",
   "metadata": {},
   "source": [
    "This code uses the `SimpleDirectoryReader` from the LlamaIndex library to load documents from the \"resumes\" directory. It recursively loads all files in the directory and its subdirectories into a list of documents for further processing or indexing."
   ]
  },
  {
   "cell_type": "markdown",
   "id": "3e2f608a-1b9d-4241-ac1c-6c26b73ef2ce",
   "metadata": {},
   "source": [
    "# Create a vector index"
   ]
  },
  {
   "cell_type": "code",
   "execution_count": 10,
   "id": "d402c3e2-b4df-4985-a079-4b574a38f372",
   "metadata": {},
   "outputs": [],
   "source": [
    "from llama_index.core import VectorStoreIndex"
   ]
  },
  {
   "cell_type": "code",
   "execution_count": 11,
   "id": "c261dabd-330c-40cd-88ff-73651e50b1bc",
   "metadata": {},
   "outputs": [],
   "source": [
    "index = VectorStoreIndex.from_documents(documents)"
   ]
  },
  {
   "cell_type": "markdown",
   "id": "ebf73fc9",
   "metadata": {},
   "source": [
    "This code creates a `VectorStoreIndex` from the documents loaded by `SimpleDirectoryReader`. It converts the documents into a vector-based index, allowing for efficient similarity search and retrieval operations on the stored data."
   ]
  },
  {
   "cell_type": "markdown",
   "id": "1edeac00-dfa4-4c3b-b110-9395cec7b952",
   "metadata": {},
   "source": [
    "# create an engine"
   ]
  },
  {
   "cell_type": "code",
   "execution_count": 12,
   "id": "7b3cb004-8da7-45a7-9c7f-0668fd274670",
   "metadata": {},
   "outputs": [],
   "source": [
    "query_engine = index.as_query_engine(similarity_top_k=25)"
   ]
  },
  {
   "cell_type": "markdown",
   "id": "b21027ab",
   "metadata": {},
   "source": [
    "This line creates a query engine from the `VectorStoreIndex` using the `as_query_engine()` method. The `similarity_top_k=25` parameter configures the engine to return the top 25 most similar documents when a query is made."
   ]
  },
  {
   "cell_type": "markdown",
   "id": "015b386b-3d6b-452f-a778-8993638cb567",
   "metadata": {},
   "source": [
    "# form a query and ask a query"
   ]
  },
  {
   "cell_type": "code",
   "execution_count": null,
   "id": "4a83b6cf-8eac-438e-b5a4-d375a9bc24cb",
   "metadata": {},
   "outputs": [
    {
     "data": {
      "text/plain": [
       "'Michael Jones, Jeffrey Smith, Molly Gonzalez, Jennifer Griffin, Elizabeth Ellis, David Murray, Victor Barr, Laura Edwards, Mark Garcia, Victoria Dunn'"
      ]
     },
     "execution_count": 14,
     "metadata": {},
     "output_type": "execute_result"
    }
   ],
   "source": [
    "response = query_engine.query(\"provide me names all people\")\n",
    "response.response"
   ]
  },
  {
   "cell_type": "code",
   "execution_count": 21,
   "id": "91fdc962",
   "metadata": {},
   "outputs": [
    {
     "name": "stdout",
     "output_type": "stream",
     "text": [
      "Jeffrey Smith, Michael Jones, Jennifer Griffin, Molly Gonzalez, David Murray, Elizabeth Ellis, Victor Barr, Laura Edwards, Victoria Dunn, Mark Garcia\n"
     ]
    }
   ],
   "source": [
    "response = query_engine.query(\" provide the names who are having experience in technical skills \")\n",
    "print(response)"
   ]
  },
  {
   "cell_type": "code",
   "execution_count": 15,
   "id": "04692bf2-6068-4e33-952e-15e1cef967c6",
   "metadata": {},
   "outputs": [
    {
     "data": {
      "text/plain": [
       "'Big Data, Data Wrangling, TensorFlow, NumPy, Matplotlib, Python'"
      ]
     },
     "execution_count": 15,
     "metadata": {},
     "output_type": "execute_result"
    }
   ],
   "source": [
    "response = query_engine.query(\"as a HR analyst, provide me technical skills list Elizabeth is having\")\n",
    "response.response"
   ]
  },
  {
   "cell_type": "code",
   "execution_count": 16,
   "id": "771497c6-c3a6-4ffb-ac75-8239c2dfd1a6",
   "metadata": {},
   "outputs": [
    {
     "name": "stdout",
     "output_type": "stream",
     "text": [
      "Luna, Clark and Rivera University\n"
     ]
    }
   ],
   "source": [
    "response = query_engine.query(\"provide me college name David studied\")\n",
    "print(response.response)"
   ]
  },
  {
   "cell_type": "code",
   "execution_count": 17,
   "id": "60d59f18-ad76-418d-bda0-7c3b5496e7d3",
   "metadata": {},
   "outputs": [
    {
     "name": "stdout",
     "output_type": "stream",
     "text": [
      "Potts-Keller University, Farmer, Arnold and Johnston University, Day-Reyes University, Garza-Hays University, Rivas-Jenkins University, Martin, Hughes and Moore University, Wall, Wright and Wolf University, Luna, Clark and Rivera University, Dickson LLC University, Donovan-Watson University\n"
     ]
    }
   ],
   "source": [
    "response = query_engine.query(\"provide me college names of all people\")\n",
    "print(response.response)"
   ]
  },
  {
   "cell_type": "code",
   "execution_count": 18,
   "id": "e2b7ca69",
   "metadata": {},
   "outputs": [
    {
     "data": {
      "text/plain": [
       "'Molly Gonzalez'"
      ]
     },
     "execution_count": 18,
     "metadata": {},
     "output_type": "execute_result"
    }
   ],
   "source": [
    "response = query_engine.query(\" In the given resumes whose college name in Farmer\")\n",
    "response.response"
   ]
  },
  {
   "cell_type": "code",
   "execution_count": 19,
   "id": "19744c8f-da19-4a8f-ae5c-8a4d816fa6ca",
   "metadata": {},
   "outputs": [
    {
     "name": "stdout",
     "output_type": "stream",
     "text": [
      "Mark Garcia, Elizabeth Ellis, and Victor Barr are individuals who have Python programming skills.\n"
     ]
    }
   ],
   "source": [
    "response = query_engine.query(\"provide me list of people who are having python programming skill\")\n",
    "print(response.response)"
   ]
  },
  {
   "cell_type": "code",
   "execution_count": 20,
   "id": "fc0e9676-7d86-4d00-a783-19ca9b0eaaea",
   "metadata": {},
   "outputs": [
    {
     "name": "stdout",
     "output_type": "stream",
     "text": [
      "Jennifer Griffin, Molly Gonzalez, Laura Edwards, Victor Barr\n"
     ]
    }
   ],
   "source": [
    "response = query_engine.query(\"provide me list of people who are having machine learning skills \")\n",
    "print(response)"
   ]
  },
  {
   "cell_type": "code",
   "execution_count": null,
   "id": "2859d4a7",
   "metadata": {},
   "outputs": [
    {
     "name": "stdout",
     "output_type": "stream",
     "text": [
      "Mark Garcia, Victoria Dunn, and Elizabeth Ellis have relevant experience in the field based on their job titles, skills, education, and work experience detailed in their resumes.\n"
     ]
    }
   ],
   "source": [
    "response = query_engine.query(\"which of the following has relevant experience in this field \")\n",
    "print(response)"
   ]
  },
  {
   "cell_type": "code",
   "execution_count": 23,
   "id": "0e19b828",
   "metadata": {},
   "outputs": [
    {
     "data": {
      "text/plain": [
       "'Michael Jones'"
      ]
     },
     "execution_count": 23,
     "metadata": {},
     "output_type": "execute_result"
    }
   ],
   "source": [
    "response = query_engine.query(\" which of the following them are freshers\")\n",
    "response.response"
   ]
  }
 ],
 "metadata": {
  "kernelspec": {
   "display_name": "Python 3",
   "language": "python",
   "name": "python3"
  },
  "language_info": {
   "codemirror_mode": {
    "name": "ipython",
    "version": 3
   },
   "file_extension": ".py",
   "mimetype": "text/x-python",
   "name": "python",
   "nbconvert_exporter": "python",
   "pygments_lexer": "ipython3",
   "version": "3.12.8"
  }
 },
 "nbformat": 4,
 "nbformat_minor": 5
}
